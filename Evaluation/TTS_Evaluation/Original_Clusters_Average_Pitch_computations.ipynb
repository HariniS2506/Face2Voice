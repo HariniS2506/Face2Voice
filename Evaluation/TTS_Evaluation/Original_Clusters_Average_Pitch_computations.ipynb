{
  "nbformat": 4,
  "nbformat_minor": 0,
  "metadata": {
    "colab": {
      "provenance": []
    },
    "kernelspec": {
      "name": "python3",
      "display_name": "Python 3"
    },
    "language_info": {
      "name": "python"
    }
  },
  "cells": [
    {
      "cell_type": "code",
      "execution_count": null,
      "metadata": {
        "id": "frdhtEc4sN8r"
      },
      "outputs": [],
      "source": [
        "from google.colab import drive\n",
        "\n",
        "drive.mount(\"/content/drive\")\n"
      ]
    },
    {
      "cell_type": "code",
      "source": [
        "!pip install pitch"
      ],
      "metadata": {
        "id": "NMp8JjBTsXqW"
      },
      "execution_count": null,
      "outputs": []
    },
    {
      "cell_type": "code",
      "source": [
        "import os\n",
        "import shutil\n",
        "import pitch\n",
        "\n",
        "def collect_wavs(sub_dir):\n",
        "\n",
        "    parent_dir = \"/content/drive/MyDrive/IDL/Project/Final_Data/Cluster_voices\"\n",
        "    temp_dir = \"/content/Voices/\"\n",
        "    new_folder_path = os.path.join(temp_dir, f\"voices_{sub_dir}\")\n",
        "\n",
        "    pitch_list = []\n",
        "\n",
        "    if os.path.exists(new_folder_path):\n",
        "        # If new_folder_path already exists, delete its contents\n",
        "        for file_name in os.listdir(new_folder_path):\n",
        "            file_path = os.path.join(new_folder_path, file_name)\n",
        "            if os.path.isfile(file_path):\n",
        "                os.remove(file_path)\n",
        "            elif os.path.isdir(file_path):\n",
        "                shutil.rmtree(file_path)\n",
        "    else:\n",
        "        os.makedirs(new_folder_path, exist_ok=True)\n",
        "\n",
        "    for subdir in os.listdir(os.path.join(parent_dir, sub_dir)):\n",
        "        if os.path.isdir(os.path.join(parent_dir, sub_dir, subdir)):\n",
        "            for subsubdir in os.listdir(os.path.join(parent_dir, sub_dir, subdir)):\n",
        "                if os.path.isdir(os.path.join(parent_dir, sub_dir, subdir, subsubdir)):\n",
        "                    for file_name in os.listdir(os.path.join(parent_dir, sub_dir, subdir, subsubdir)):\n",
        "                        if file_name.endswith(\".wav\"):\n",
        "                            file_path = os.path.join(parent_dir, sub_dir, subdir, subsubdir, file_name)\n",
        "                            # Load the audio file\n",
        "                            # Append the pitch to the list\n",
        "                            pitch_list.append(pitch.find_pitch(file_path))\n",
        "    \n",
        "    # Calculate the average pitch\n",
        "    avg_pitch = sum(pitch_list) / len(pitch_list)\n",
        "    return avg_pitch\n"
      ],
      "metadata": {
        "id": "L-6UlstWsZXU"
      },
      "execution_count": null,
      "outputs": []
    },
    {
      "cell_type": "code",
      "source": [
        "pitch_cluster_0 = collect_wavs(\"0\")\n",
        "pitch_cluster_1 = collect_wavs(\"1\")\n",
        "pitch_cluster_2 = collect_wavs(\"2\")\n",
        "pitch_cluster_3 = collect_wavs(\"3\")\n",
        "pitch_cluster_4 = collect_wavs(\"4\")\n",
        "pitch_cluster_5 = collect_wavs(\"5\")\n",
        "pitch_cluster_6 = collect_wavs(\"6\")\n",
        "pitch_cluster_7 = collect_wavs(\"7\")\n",
        "pitch_cluster_8 = collect_wavs(\"8\")"
      ],
      "metadata": {
        "id": "s89jZd-MsaHO"
      },
      "execution_count": null,
      "outputs": []
    },
    {
      "cell_type": "code",
      "source": [
        "import csv\n",
        "\n",
        "# Save pitch data to CSV\n",
        "with open('pitch_data.csv', mode='w', newline='') as pitch_file:\n",
        "    pitch_writer = csv.writer(pitch_file, delimiter=',', quotechar='\"', quoting=csv.QUOTE_MINIMAL)\n",
        "    pitch_writer.writerow(['Cluster', 'Pitches'])\n",
        "    pitch_writer.writerow(['0', pitch_cluster_0])\n",
        "    pitch_writer.writerow(['1', pitch_cluster_1])\n",
        "    pitch_writer.writerow(['2', pitch_cluster_2])\n",
        "    pitch_writer.writerow(['3', pitch_cluster_3])\n",
        "    pitch_writer.writerow(['4', pitch_cluster_4])\n",
        "    pitch_writer.writerow(['5', pitch_cluster_5])\n",
        "    pitch_writer.writerow(['6', pitch_cluster_6])\n",
        "    pitch_writer.writerow(['7', pitch_cluster_7])\n",
        "    pitch_writer.writerow(['8', pitch_cluster_8])\n",
        "    pitch_writer.writerow(['9', pitch_cluster_9])\n"
      ],
      "metadata": {
        "id": "p5g9fsXQscoB"
      },
      "execution_count": null,
      "outputs": []
    }
  ]
}